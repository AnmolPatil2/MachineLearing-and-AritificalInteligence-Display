{
 "cells": [
  {
   "cell_type": "markdown",
   "metadata": {
    "colab_type": "text",
    "id": "EfYq4cUuoRiZ"
   },
   "source": [
    "\n",
    "\n",
    "#      FACE RECOGNITION USING CONVOLUTIONAL NEURAL NETWORK(CNN)\n",
    "\n",
    "\n",
    "\n",
    "\n",
    "\n",
    "\n",
    "\n",
    "\n"
   ]
  },
  {
   "cell_type": "markdown",
   "metadata": {
    "colab_type": "text",
    "id": "KgwO3a20pkRe"
   },
   "source": [
    "**Importing Libraries**"
   ]
  },
  {
   "cell_type": "code",
   "execution_count": 0,
   "metadata": {
    "colab": {},
    "colab_type": "code",
    "id": "4yj1pDd7nAsW"
   },
   "outputs": [],
   "source": [
    "import pandas as pd\n",
    "import numpy as np\n",
    "import matplotlib.pyplot as plt\n",
    "import cv2\n",
    "\n",
    "from PIL import Image\n",
    "from sklearn.model_selection import train_test_split\n",
    "import os\n",
    "from sklearn.utils import shuffle\n",
    "from keras import optimizers\n",
    "import keras\n",
    "from keras import Sequential\n",
    "\n",
    "from keras.layers import Dense, Dropout, Flatten\n",
    "from keras.layers import Conv2D, MaxPooling2D"
   ]
  },
  {
   "cell_type": "code",
   "execution_count": 0,
   "metadata": {
    "colab": {
     "base_uri": "https://localhost:8080/",
     "height": 50
    },
    "colab_type": "code",
    "id": "vfTQUnYQkevG",
    "outputId": "300ae94e-7092-4a62-f957-0c840726859e"
   },
   "outputs": [
    {
     "name": "stdout",
     "output_type": "stream",
     "text": [
      "Drive already mounted at /gdrive; to attempt to forcibly remount, call drive.mount(\"/gdrive\", force_remount=True).\n",
      "/gdrive/My Drive/IMAGES\n"
     ]
    }
   ],
   "source": [
    "from google.colab import drive\n",
    "drive.mount('/gdrive')\n",
    "%cd '/gdrive/My Drive/IMAGES'"
   ]
  },
  {
   "cell_type": "code",
   "execution_count": 0,
   "metadata": {
    "colab": {},
    "colab_type": "code",
    "id": "mOopDAeIIPoV"
   },
   "outputs": [],
   "source": [
    "inp_shape = (256,256)\n",
    "\n",
    "def import_images(folder):\n",
    "    input_shape = (256,256)\n",
    "    images = []\n",
    "    path  = '/gdrive/My Drive/IMAGES/'+folder\n",
    "    for filename in os.listdir(folder):\n",
    "        img = plt.imread(path+\"/\"+filename) \n",
    "        img = cv2.resize(img,input_shape)\n",
    "        gray = cv2.cvtColor(img, cv2.COLOR_BGR2GRAY)\n",
    "        gray = gray/255\n",
    "        images.append(gray)  \n",
    "    return images"
   ]
  },
  {
   "cell_type": "code",
   "execution_count": 0,
   "metadata": {
    "colab": {},
    "colab_type": "code",
    "id": "3SgyipDngWW1"
   },
   "outputs": [],
   "source": [
    "class0 = import_images(\"CLASS0\")\n",
    "class1 = import_images(\"CLASS1\")"
   ]
  },
  {
   "cell_type": "code",
   "execution_count": 0,
   "metadata": {
    "colab": {},
    "colab_type": "code",
    "id": "6bt0omSrniE3"
   },
   "outputs": [],
   "source": [
    "#converting list to array\n",
    "#we need to convert to array because further computation would be \n",
    "#simple if the data of  array type\n",
    "sample_0 = np.array(class0)\n",
    "sample_1 = np.array(class1)"
   ]
  },
  {
   "cell_type": "code",
   "execution_count": 0,
   "metadata": {
    "colab": {},
    "colab_type": "code",
    "id": "WTHBENXQFX3Y"
   },
   "outputs": [],
   "source": [
    "#getting variables for further computation\n",
    "size_class_0 = len(sample_0)\n",
    "size_class_1 = len(sample_1)\n",
    "total_size = size_class_0 + size_class_1\n"
   ]
  },
  {
   "cell_type": "code",
   "execution_count": 0,
   "metadata": {
    "colab": {
     "base_uri": "https://localhost:8080/",
     "height": 50
    },
    "colab_type": "code",
    "id": "9fPdmu5yxfos",
    "outputId": "16faab51-a205-4cab-a0ab-7dada53965db"
   },
   "outputs": [
    {
     "name": "stdout",
     "output_type": "stream",
     "text": [
      "Shape of Images Class 0: (500, 256, 256)\n",
      "Shape of Images Class 1: (500, 256, 256)\n"
     ]
    }
   ],
   "source": [
    "print(\"Shape of Images Class 0:\",sample_0.shape)\n",
    "print(\"Shape of Images Class 1:\",sample_1.shape)"
   ]
  },
  {
   "cell_type": "code",
   "execution_count": 0,
   "metadata": {
    "colab": {
     "base_uri": "https://localhost:8080/",
     "height": 67
    },
    "colab_type": "code",
    "id": "dyAfRk4QEtbL",
    "outputId": "6ca2c560-55a5-42b5-b042-9285aa3ead63"
   },
   "outputs": [
    {
     "name": "stdout",
     "output_type": "stream",
     "text": [
      "Size of Images Class 0: 500\n",
      "Size of Images Class 1: 500\n",
      "TOTAL SIZE OF DATA: 1000\n"
     ]
    }
   ],
   "source": [
    "print(\"Size of Images Class 0:\",size_class_0)\n",
    "print(\"Size of Images Class 1:\",size_class_1)\n",
    "print(\"TOTAL SIZE OF DATA:\",total_size)"
   ]
  },
  {
   "cell_type": "code",
   "execution_count": 0,
   "metadata": {
    "colab": {
     "base_uri": "https://localhost:8080/",
     "height": 50
    },
    "colab_type": "code",
    "id": "mYD-WkkJoNlb",
    "outputId": "e009a10a-bf6e-4b11-89da-3cd1e77eeca2"
   },
   "outputs": [
    {
     "name": "stdout",
     "output_type": "stream",
     "text": [
      "NUMBER OF DATA ITEMS IN CLASS 0: 500\n",
      "NUMBER OF DATA ITEMS IN CLASS 1: 500\n"
     ]
    }
   ],
   "source": [
    "print(\"NUMBER OF DATA ITEMS IN CLASS 0:\" ,len(sample_0))\n",
    "print(\"NUMBER OF DATA ITEMS IN CLASS 1:\" ,len(sample_1))\n"
   ]
  },
  {
   "cell_type": "code",
   "execution_count": 0,
   "metadata": {
    "colab": {},
    "colab_type": "code",
    "id": "tAQcrEiSoP5e"
   },
   "outputs": [],
   "source": [
    "images = []\n",
    "\n",
    "\n",
    "#converting list into array\n",
    "sample_0 = (sample_0).reshape(len(sample_0),256,256,1)\n",
    "\n",
    "for im in sample_0:\n",
    "  a = im.flatten();\n",
    "  images.append(a);\n",
    "  \n",
    "sample_np = (sample_1).reshape(len(sample_1),256,256,1)\n",
    "\n",
    "\n",
    "\n",
    "for im in sample_1:\n",
    "  a = im.flatten();\n",
    "\n",
    "  images.append(a);"
   ]
  },
  {
   "cell_type": "code",
   "execution_count": 0,
   "metadata": {
    "colab": {},
    "colab_type": "code",
    "id": "D0LC0x-pXhuT"
   },
   "outputs": [],
   "source": [
    "#pass a number to display image\n",
    "def disp_img(str):\n",
    "  if(images[str].shape == inp_shape):\n",
    "    plt.imshow(images[str])\n",
    "  else:\n",
    "    plt.imshow(images[str].reshape(inp_shape))"
   ]
  },
  {
   "cell_type": "code",
   "execution_count": 0,
   "metadata": {
    "colab": {},
    "colab_type": "code",
    "id": "geiIkCxoPlmV"
   },
   "outputs": [],
   "source": [
    "#creating output labels\n",
    "labels = np.zeros(len(sample_0)+len(sample_1))\n",
    "labels[len(sample_0):((len(sample_0))+(len(sample_1)))] = 1"
   ]
  },
  {
   "cell_type": "code",
   "execution_count": 0,
   "metadata": {
    "colab": {},
    "colab_type": "code",
    "id": "as6yITwKob-v"
   },
   "outputs": [],
   "source": [
    "#shuffling data\n",
    "data_1,label = shuffle(images,labels,random_state = 2)"
   ]
  },
  {
   "cell_type": "code",
   "execution_count": 0,
   "metadata": {
    "colab": {},
    "colab_type": "code",
    "id": "MhjiuX8yoefK"
   },
   "outputs": [],
   "source": [
    "#creating a dataset\n",
    "data = [data_1,label]"
   ]
  },
  {
   "cell_type": "code",
   "execution_count": 0,
   "metadata": {
    "colab": {},
    "colab_type": "code",
    "id": "vMvsWsQHog0e"
   },
   "outputs": [],
   "source": [
    "#creating x and y\n",
    "x = data[0]\n",
    "y = data[1]"
   ]
  },
  {
   "cell_type": "code",
   "execution_count": 0,
   "metadata": {
    "colab": {},
    "colab_type": "code",
    "id": "zmbXBfVFoi5-"
   },
   "outputs": [],
   "source": [
    "#splitting of dataset -- train and test\n",
    "#80% data as training data and 20% data as testing data\n",
    "x_train,x_test,y_train,y_test = train_test_split(x,y,test_size = 0.2,random_state = 2)"
   ]
  },
  {
   "cell_type": "code",
   "execution_count": 0,
   "metadata": {
    "colab": {},
    "colab_type": "code",
    "id": "LVwAvw0Moljj"
   },
   "outputs": [],
   "source": [
    "#converting to array\n",
    "x_train = np.array(x_train)\n",
    "x_test = np.array(x_test)"
   ]
  },
  {
   "cell_type": "code",
   "execution_count": 0,
   "metadata": {
    "colab": {
     "base_uri": "https://localhost:8080/",
     "height": 150
    },
    "colab_type": "code",
    "id": "YrxqLs9x-Sdw",
    "outputId": "5182037d-5d11-40f7-b9d4-0fbcec694b3a"
   },
   "outputs": [
    {
     "name": "stdout",
     "output_type": "stream",
     "text": [
      "Shape of training images :  (800, 65536)\n",
      "Shape of training labels :  (800,)\n",
      "Shape of testing images :  (200, 65536)\n",
      "Shape of testing labels :  (200,)\n",
      "Size of training images : 800\n",
      "Size of training labels : 800\n",
      "Size of test images : 200\n",
      "Size of test labels : 200\n"
     ]
    }
   ],
   "source": [
    "print(\"Shape of training images : \",x_train.shape)\n",
    "print(\"Shape of training labels : \",y_train.shape)\n",
    "print(\"Shape of testing images : \",x_test.shape)\n",
    "print(\"Shape of testing labels : \",y_test.shape)\n",
    "print(\"Size of training images :\",len(x_train))\n",
    "print(\"Size of training labels :\",len(y_train))\n",
    "print(\"Size of test images :\",len(x_test))\n",
    "print(\"Size of test labels :\",len(y_test))"
   ]
  },
  {
   "cell_type": "code",
   "execution_count": 0,
   "metadata": {
    "colab": {},
    "colab_type": "code",
    "id": "tHeV8zsWotdW"
   },
   "outputs": [],
   "source": [
    "x_train = x_train.reshape(x_train.shape[0],256,256,1)\n",
    "x_test = x_test.reshape(x_test.shape[0],256,256,1)"
   ]
  },
  {
   "cell_type": "code",
   "execution_count": 0,
   "metadata": {
    "colab": {},
    "colab_type": "code",
    "id": "9Ztur9jOo0YD"
   },
   "outputs": [],
   "source": [
    "y_train = keras.utils.to_categorical(y_train, 2)\n",
    "y_test = keras.utils.to_categorical(y_test, 2)"
   ]
  },
  {
   "cell_type": "markdown",
   "metadata": {
    "colab_type": "text",
    "id": "qcEnqubH_UgW"
   },
   "source": [
    "# **CONVOLUTIONAL NEURAL NETWORK**"
   ]
  },
  {
   "cell_type": "code",
   "execution_count": 0,
   "metadata": {
    "colab": {},
    "colab_type": "code",
    "id": "PhLNGdqT0tOC"
   },
   "outputs": [],
   "source": [
    "\n",
    "from numpy.random import seed\n",
    "def model_check(act,optimi,epochs,batch,seed_val):\n",
    "\n",
    "    batch_size= batch\n",
    "    i = seed_val\n",
    "    print(\"ACTIVATION FUNCTION :\",act)\n",
    "    print(\"OPTIMIZER :\",optimi)\n",
    "    print(\"THE VALUE OF SEED IS :\",i)\n",
    "    train_accuracy = []\n",
    "\n",
    "   \n",
    "    model = Sequential()\n",
    "    model.add(Conv2D(32,input_shape=(256,256,1),kernel_size=(3,3),strides=1,padding=\"same\",activation=act))\n",
    "    model.add(Conv2D(32,input_shape=(256,256,1),kernel_size=(3,3),strides=1,padding=\"same\",activation=act))\n",
    "    model.add(MaxPooling2D(pool_size=(2,2)))\n",
    "    model.add(Flatten())\n",
    "    model.add(Dense(128, activation=act))\n",
    "    seed(i)\n",
    "    model.add(Dropout(0.3))\n",
    "    model.add(Dense(2, activation='softmax'))\n",
    "    model.compile(loss=keras.losses.categorical_crossentropy, optimizer=\"sgd\", metrics=['accuracy'])\n",
    "    model_re =  model.fit(x_train, y_train,batch_size=batch_size,epochs=epochs, verbose=1, validation_data=(x_test, y_test))\n",
    "    score = model.evaluate(x_test, y_test, verbose=0)\n",
    "    \n",
    "  \n",
    "    fig = plt.figure(figsize=(20,5))\n",
    "    ax1 = fig.add_subplot(121)\n",
    "    ax1.plot(model_re.history['acc'])\n",
    "    ax1.plot(model_re.history['val_acc'])\n",
    "    ax1.set_xlabel('EPOCHS')\n",
    "    ax1.set_ylabel('ACCURACY')\n",
    "    ax1.set_title(\"EPOCHS VS ACCURACY\")\n",
    "    ax1.legend([\"Training Accuracy\",\"Validation Accuracy\"])\n",
    "\n",
    "    ax2 = fig.add_subplot(122)\n",
    "    ax2.plot(model_re.history['loss'])\n",
    "    ax2.plot(model_re.history['val_loss'])\n",
    "    ax2.set_xlabel('EPOCHS')\n",
    "    ax2.set_ylabel('LOSS')\n",
    "    ax2.set_title(\"EPOCHS VS LOSS\")\n",
    "    ax2.legend([\"Training Loss\",\"Validation Loss\"])\n",
    "\n",
    "    plt.show()\n",
    "\n",
    "\n",
    "\n",
    "\n",
    "    \n",
    "\n",
    "    data = pd.DataFrame([model_re.history['acc'],model_re.history['val_acc'],model_re.history['loss'],model_re.history['val_loss']]).T\n",
    "    data = data.rename(columns = {0:\"TRAIN ACC\",1:\"VAL ACC\",2:\"TRAIN LOSS\",3:\"VAL LOSS\"})\n",
    "    print(data)\n",
    "    return model\n",
    "    \n",
    "   "
   ]
  },
  {
   "cell_type": "code",
   "execution_count": 0,
   "metadata": {
    "colab": {
     "base_uri": "https://localhost:8080/",
     "height": 2942
    },
    "colab_type": "code",
    "id": "tJ2rWtTlUvtj",
    "outputId": "fda90580-9ff1-46fb-fdad-f18641170fba"
   },
   "outputs": [
    {
     "name": "stdout",
     "output_type": "stream",
     "text": [
      "ACTIVATION FUNCTION : sigmoid\n",
      "OPTIMIZER : SGD\n",
      "THE VALUE OF SEED IS : 2\n",
      "Train on 800 samples, validate on 200 samples\n",
      "Epoch 1/50\n",
      "800/800 [==============================] - 5s 6ms/step - loss: 0.7972 - acc: 0.5100 - val_loss: 0.6931 - val_acc: 0.5050\n",
      "Epoch 2/50\n",
      "800/800 [==============================] - 3s 4ms/step - loss: 0.7675 - acc: 0.4663 - val_loss: 0.6973 - val_acc: 0.5050\n",
      "Epoch 3/50\n",
      "800/800 [==============================] - 3s 4ms/step - loss: 0.7368 - acc: 0.5350 - val_loss: 0.6943 - val_acc: 0.4950\n",
      "Epoch 4/50\n",
      "800/800 [==============================] - 3s 4ms/step - loss: 0.7529 - acc: 0.4750 - val_loss: 0.6968 - val_acc: 0.5050\n",
      "Epoch 5/50\n",
      "800/800 [==============================] - 3s 4ms/step - loss: 0.7421 - acc: 0.5225 - val_loss: 0.6937 - val_acc: 0.5050\n",
      "Epoch 6/50\n",
      "800/800 [==============================] - 3s 4ms/step - loss: 0.7275 - acc: 0.5087 - val_loss: 0.6947 - val_acc: 0.5050\n",
      "Epoch 7/50\n",
      "800/800 [==============================] - 3s 4ms/step - loss: 0.7255 - acc: 0.4987 - val_loss: 0.6983 - val_acc: 0.5050\n",
      "Epoch 8/50\n",
      "800/800 [==============================] - 3s 4ms/step - loss: 0.7374 - acc: 0.4850 - val_loss: 0.6950 - val_acc: 0.5050\n",
      "Epoch 9/50\n",
      "800/800 [==============================] - 3s 4ms/step - loss: 0.7235 - acc: 0.5050 - val_loss: 0.6952 - val_acc: 0.4950\n",
      "Epoch 10/50\n",
      "800/800 [==============================] - 3s 4ms/step - loss: 0.7163 - acc: 0.5125 - val_loss: 0.6967 - val_acc: 0.4950\n",
      "Epoch 11/50\n",
      "800/800 [==============================] - 3s 4ms/step - loss: 0.7181 - acc: 0.4913 - val_loss: 0.6946 - val_acc: 0.4950\n",
      "Epoch 12/50\n",
      "800/800 [==============================] - 3s 4ms/step - loss: 0.7169 - acc: 0.5062 - val_loss: 0.6961 - val_acc: 0.5050\n",
      "Epoch 13/50\n",
      "800/800 [==============================] - 3s 4ms/step - loss: 0.7121 - acc: 0.4925 - val_loss: 0.7068 - val_acc: 0.4950\n",
      "Epoch 14/50\n",
      "800/800 [==============================] - 3s 4ms/step - loss: 0.7032 - acc: 0.5287 - val_loss: 0.6944 - val_acc: 0.5050\n",
      "Epoch 15/50\n",
      "800/800 [==============================] - 3s 4ms/step - loss: 0.7002 - acc: 0.5187 - val_loss: 0.6975 - val_acc: 0.4950\n",
      "Epoch 16/50\n",
      "800/800 [==============================] - 3s 4ms/step - loss: 0.7106 - acc: 0.4612 - val_loss: 0.6939 - val_acc: 0.4950\n",
      "Epoch 17/50\n",
      "800/800 [==============================] - 3s 4ms/step - loss: 0.7151 - acc: 0.4612 - val_loss: 0.6932 - val_acc: 0.4950\n",
      "Epoch 18/50\n",
      "800/800 [==============================] - 3s 4ms/step - loss: 0.7013 - acc: 0.4987 - val_loss: 0.6943 - val_acc: 0.5050\n",
      "Epoch 19/50\n",
      "800/800 [==============================] - 3s 4ms/step - loss: 0.6995 - acc: 0.5162 - val_loss: 0.6932 - val_acc: 0.4950\n",
      "Epoch 20/50\n",
      "800/800 [==============================] - 3s 4ms/step - loss: 0.6997 - acc: 0.5000 - val_loss: 0.6933 - val_acc: 0.5050\n",
      "Epoch 21/50\n",
      "800/800 [==============================] - 3s 4ms/step - loss: 0.7031 - acc: 0.4937 - val_loss: 0.6931 - val_acc: 0.5050\n",
      "Epoch 22/50\n",
      "800/800 [==============================] - 3s 4ms/step - loss: 0.7046 - acc: 0.4800 - val_loss: 0.6968 - val_acc: 0.4950\n",
      "Epoch 23/50\n",
      "800/800 [==============================] - 3s 4ms/step - loss: 0.7070 - acc: 0.4850 - val_loss: 0.6958 - val_acc: 0.5050\n",
      "Epoch 24/50\n",
      "800/800 [==============================] - 3s 4ms/step - loss: 0.7027 - acc: 0.4725 - val_loss: 0.6934 - val_acc: 0.4950\n",
      "Epoch 25/50\n",
      "800/800 [==============================] - 3s 4ms/step - loss: 0.7022 - acc: 0.4900 - val_loss: 0.6981 - val_acc: 0.5050\n",
      "Epoch 26/50\n",
      "800/800 [==============================] - 3s 4ms/step - loss: 0.6997 - acc: 0.4962 - val_loss: 0.6941 - val_acc: 0.5050\n",
      "Epoch 27/50\n",
      "800/800 [==============================] - 3s 4ms/step - loss: 0.7019 - acc: 0.4713 - val_loss: 0.6938 - val_acc: 0.4950\n",
      "Epoch 28/50\n",
      "800/800 [==============================] - 3s 4ms/step - loss: 0.6995 - acc: 0.5050 - val_loss: 0.6988 - val_acc: 0.4950\n",
      "Epoch 29/50\n",
      "800/800 [==============================] - 3s 4ms/step - loss: 0.6940 - acc: 0.5125 - val_loss: 0.6942 - val_acc: 0.5050\n",
      "Epoch 30/50\n",
      "800/800 [==============================] - 3s 4ms/step - loss: 0.6975 - acc: 0.4775 - val_loss: 0.6937 - val_acc: 0.4950\n",
      "Epoch 31/50\n",
      "800/800 [==============================] - 3s 4ms/step - loss: 0.6980 - acc: 0.4938 - val_loss: 0.6934 - val_acc: 0.4950\n",
      "Epoch 32/50\n",
      "800/800 [==============================] - 3s 4ms/step - loss: 0.6978 - acc: 0.5162 - val_loss: 0.7060 - val_acc: 0.4950\n",
      "Epoch 33/50\n",
      "800/800 [==============================] - 3s 4ms/step - loss: 0.6972 - acc: 0.5112 - val_loss: 0.6991 - val_acc: 0.4950\n",
      "Epoch 34/50\n",
      "800/800 [==============================] - 3s 4ms/step - loss: 0.6948 - acc: 0.5187 - val_loss: 0.6932 - val_acc: 0.4950\n",
      "Epoch 35/50\n",
      "800/800 [==============================] - 3s 4ms/step - loss: 0.6914 - acc: 0.5312 - val_loss: 0.6988 - val_acc: 0.4950\n",
      "Epoch 36/50\n",
      "800/800 [==============================] - 3s 4ms/step - loss: 0.6999 - acc: 0.4800 - val_loss: 0.6940 - val_acc: 0.4950\n",
      "Epoch 37/50\n",
      "800/800 [==============================] - 3s 4ms/step - loss: 0.6971 - acc: 0.5075 - val_loss: 0.6982 - val_acc: 0.4950\n",
      "Epoch 38/50\n",
      "800/800 [==============================] - 3s 4ms/step - loss: 0.6958 - acc: 0.5200 - val_loss: 0.6931 - val_acc: 0.5050\n",
      "Epoch 39/50\n",
      "800/800 [==============================] - 3s 4ms/step - loss: 0.6958 - acc: 0.5037 - val_loss: 0.6947 - val_acc: 0.4950\n",
      "Epoch 40/50\n",
      "800/800 [==============================] - 3s 4ms/step - loss: 0.7017 - acc: 0.4662 - val_loss: 0.6933 - val_acc: 0.5050\n",
      "Epoch 41/50\n",
      "800/800 [==============================] - 3s 4ms/step - loss: 0.6953 - acc: 0.4937 - val_loss: 0.6934 - val_acc: 0.5050\n",
      "Epoch 42/50\n",
      "800/800 [==============================] - 3s 4ms/step - loss: 0.6976 - acc: 0.4875 - val_loss: 0.6931 - val_acc: 0.5050\n",
      "Epoch 43/50\n",
      "800/800 [==============================] - 3s 4ms/step - loss: 0.6961 - acc: 0.5062 - val_loss: 0.6956 - val_acc: 0.4950\n",
      "Epoch 44/50\n",
      "800/800 [==============================] - 3s 4ms/step - loss: 0.6962 - acc: 0.4875 - val_loss: 0.6962 - val_acc: 0.4950\n",
      "Epoch 45/50\n",
      "800/800 [==============================] - 3s 4ms/step - loss: 0.6957 - acc: 0.5100 - val_loss: 0.6945 - val_acc: 0.4950\n",
      "Epoch 46/50\n",
      "800/800 [==============================] - 3s 4ms/step - loss: 0.6960 - acc: 0.4887 - val_loss: 0.6941 - val_acc: 0.4950\n",
      "Epoch 47/50\n",
      "800/800 [==============================] - 3s 4ms/step - loss: 0.6964 - acc: 0.4962 - val_loss: 0.6933 - val_acc: 0.5050\n",
      "Epoch 48/50\n",
      "800/800 [==============================] - 3s 4ms/step - loss: 0.6972 - acc: 0.4875 - val_loss: 0.6931 - val_acc: 0.5050\n",
      "Epoch 49/50\n",
      "800/800 [==============================] - 3s 4ms/step - loss: 0.6944 - acc: 0.4987 - val_loss: 0.6940 - val_acc: 0.5050\n",
      "Epoch 50/50\n",
      "800/800 [==============================] - 3s 4ms/step - loss: 0.6979 - acc: 0.5025 - val_loss: 0.6946 - val_acc: 0.5050\n"
     ]
    },
    {
     "data": {
      "image/png": "[encoded data removed]",
      "text/plain": [
       "<Figure size 1440x360 with 2 Axes>"
      ]
     },
     "metadata": {
      "tags": []
     },
     "output_type": "display_data"
    },
    {
     "name": "stdout",
     "output_type": "stream",
     "text": [
      "    TRAIN ACC  VAL ACC  TRAIN LOSS  VAL LOSS\n",
      "0     0.51000    0.505    0.797202  0.693110\n",
      "1     0.46625    0.505    0.767472  0.697287\n",
      "2     0.53500    0.495    0.736776  0.694288\n",
      "3     0.47500    0.505    0.752918  0.696782\n",
      "4     0.52250    0.505    0.742052  0.693723\n",
      "5     0.50875    0.505    0.727527  0.694689\n",
      "6     0.49875    0.505    0.725496  0.698318\n",
      "7     0.48500    0.505    0.737423  0.694998\n",
      "8     0.50500    0.495    0.723503  0.695231\n",
      "9     0.51250    0.495    0.716320  0.696682\n",
      "10    0.49125    0.495    0.718134  0.694585\n",
      "11    0.50625    0.505    0.716908  0.696114\n",
      "12    0.49250    0.495    0.712113  0.706795\n",
      "13    0.52875    0.505    0.703173  0.694354\n",
      "14    0.51875    0.495    0.700228  0.697513\n",
      "15    0.46125    0.495    0.710582  0.693913\n",
      "16    0.46125    0.495    0.715136  0.693154\n",
      "17    0.49875    0.505    0.701263  0.694308\n",
      "18    0.51625    0.495    0.699457  0.693154\n",
      "19    0.50000    0.505    0.699744  0.693345\n",
      "20    0.49375    0.505    0.703145  0.693143\n",
      "21    0.48000    0.495    0.704647  0.696847\n",
      "22    0.48500    0.505    0.706991  0.695803\n",
      "23    0.47250    0.495    0.702652  0.693411\n",
      "24    0.49000    0.505    0.702220  0.698096\n",
      "25    0.49625    0.505    0.699672  0.694113\n",
      "26    0.47125    0.495    0.701946  0.693813\n",
      "27    0.50500    0.495    0.699524  0.698758\n",
      "28    0.51250    0.505    0.693983  0.694178\n",
      "29    0.47750    0.495    0.697535  0.693662\n",
      "30    0.49375    0.495    0.698001  0.693389\n",
      "31    0.51625    0.495    0.697762  0.706038\n",
      "32    0.51125    0.495    0.697233  0.699138\n",
      "33    0.51875    0.495    0.694768  0.693196\n",
      "34    0.53125    0.495    0.691371  0.698770\n",
      "35    0.48000    0.495    0.699924  0.694018\n",
      "36    0.50750    0.495    0.697055  0.698225\n",
      "37    0.52000    0.505    0.695780  0.693128\n",
      "38    0.50375    0.495    0.695790  0.694724\n",
      "39    0.46625    0.505    0.701732  0.693255\n",
      "40    0.49375    0.505    0.695338  0.693355\n",
      "41    0.48750    0.505    0.697577  0.693128\n",
      "42    0.50625    0.495    0.696133  0.695607\n",
      "43    0.48750    0.495    0.696155  0.696160\n",
      "44    0.51000    0.495    0.695730  0.694505\n",
      "45    0.48875    0.495    0.696015  0.694145\n",
      "46    0.49625    0.505    0.696379  0.693274\n",
      "47    0.48750    0.505    0.697229  0.693095\n",
      "48    0.49875    0.505    0.694412  0.693953\n",
      "49    0.50250    0.505    0.697903  0.694588\n"
     ]
    }
   ],
   "source": [
    "model  = model_check(\"sigmoid\",\"SGD\",50,25,2)"
   ]
  },
  {
   "cell_type": "code",
   "execution_count": 0,
   "metadata": {
    "colab": {},
    "colab_type": "code",
    "id": "8rwAXtk2iHgu"
   },
   "outputs": [],
   "source": [
    "prediction = []\n",
    "original_label = [] \n",
    "non_prashanth_prob = [] \n",
    "prashanth_prob = []\n",
    "def test(image_folder,model):\n",
    "  \n",
    "  \n",
    "  i =0\n",
    "  import_test = \"/gdrive/My Drive/IMAGES/\"+image_folder\n",
    "  img_folder_1 = os.listdir(import_test)\n",
    "  for img in img_folder_1:\n",
    "    res_image = cv2.imread(import_test+\"/\"+img)\n",
    "    gray = cv2.cvtColor(res_image, cv2.COLOR_BGR2GRAY)\n",
    "    gray = cv2.resize(gray,inp_shape)\n",
    "    gray = gray.reshape((1,256,256,1))\n",
    "    a= model.predict(gray)\n",
    "    prediction.append(a)\n",
    "    non_prashanth_prob.append(prediction[i][0][0]*100)\n",
    "    prashanth_prob.append(prediction[i][0][1]*100)\n",
    "    i =i+1\n",
    "    \n",
    "  \n",
    "  "
   ]
  },
  {
   "cell_type": "code",
   "execution_count": 0,
   "metadata": {
    "colab": {},
    "colab_type": "code",
    "id": "-vmPecgarW58"
   },
   "outputs": [],
   "source": []
  }
 ],
 "metadata": {
  "accelerator": "GPU",
  "colab": {
   "collapsed_sections": [],
   "name": "GPU COMPUTATION ",
   "provenance": [],
   "version": "0.3.2"
  },
  "kernelspec": {
   "display_name": "Python 3",
   "language": "python",
   "name": "python3"
  },
  "language_info": {
   "codemirror_mode": {
    "name": "ipython",
    "version": 3
   },
   "file_extension": ".py",
   "mimetype": "text/x-python",
   "name": "python",
   "nbconvert_exporter": "python",
   "pygments_lexer": "ipython3",
   "version": "3.6.4"
  }
 },
 "nbformat": 4,
 "nbformat_minor": 1
}

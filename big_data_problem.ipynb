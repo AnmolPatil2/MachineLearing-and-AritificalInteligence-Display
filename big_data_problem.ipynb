{
 "cells": [
  {
   "cell_type": "code",
   "execution_count": 1,
   "metadata": {},
   "outputs": [],
   "source": [
    "import numpy as np\n",
    "import matplotlib.pyplot as plt\n",
    "import pandas as pd\n",
    "from pandas import DataFrame\n",
    "import seaborn as sns\n",
    "from sklearn.metrics import accuracy_score\n",
    "from sklearn.metrics import confusion_matrix , classification_report\n",
    "from sklearn import metrics\n",
    "from sklearn.linear_model import LinearRegression"
   ]
  },
  {
   "cell_type": "code",
   "execution_count": 2,
   "metadata": {},
   "outputs": [],
   "source": [
    "train = pd.read_csv(\"train.csv\")"
   ]
  },
  {
   "cell_type": "code",
   "execution_count": 3,
   "metadata": {},
   "outputs": [],
   "source": [
    "building_ownership = pd.read_csv(\"building_ownership_Use.csv\")"
   ]
  },
  {
   "cell_type": "code",
   "execution_count": 4,
   "metadata": {},
   "outputs": [],
   "source": [
    "building_structure = pd.read_csv(\"building_structure.csv\")"
   ]
  },
  {
   "cell_type": "code",
   "execution_count": 5,
   "metadata": {},
   "outputs": [],
   "source": [
    "test = pd.read_csv(\"test.csv\")"
   ]
  },
  {
   "cell_type": "code",
   "execution_count": 6,
   "metadata": {},
   "outputs": [],
   "source": [
    "result = pd.merge(building_structure, building_ownership, on='building_id')\n",
    "data=pd.merge(train,result,on=\"building_id\")\n"
   ]
  },
  {
   "cell_type": "code",
   "execution_count": 7,
   "metadata": {},
   "outputs": [],
   "source": [
    "result = pd.merge(building_structure, building_ownership, on='building_id')\n",
    "test=pd.merge(test,result,on=\"building_id\")\n"
   ]
  },
  {
   "cell_type": "code",
   "execution_count": 8,
   "metadata": {},
   "outputs": [],
   "source": [
    "v=pd.get_dummies(data['area_assesed'])\n",
    "data=pd.concat([data,v],axis=1)\n",
    "v=pd.get_dummies(test['area_assesed'])\n",
    "test=pd.concat([test,v],axis=1)"
   ]
  },
  {
   "cell_type": "code",
   "execution_count": 9,
   "metadata": {},
   "outputs": [],
   "source": [
    "v=pd.get_dummies(data['land_surface_condition'])\n",
    "data=pd.concat([data,v],axis=1)\n",
    "v=pd.get_dummies(test['land_surface_condition'])\n",
    "test=pd.concat([test,v],axis=1)"
   ]
  },
  {
   "cell_type": "code",
   "execution_count": 10,
   "metadata": {},
   "outputs": [],
   "source": [
    "v=pd.get_dummies(data['foundation_type'])\n",
    "data=pd.concat([data,v],axis=1)\n",
    "v=pd.get_dummies(test['foundation_type'])\n",
    "test=pd.concat([test,v],axis=1)"
   ]
  },
  {
   "cell_type": "code",
   "execution_count": 11,
   "metadata": {},
   "outputs": [],
   "source": [
    "v=pd.get_dummies(data['roof_type'])\n",
    "data=pd.concat([data,v],axis=1)\n",
    "v=pd.get_dummies(test['roof_type'])\n",
    "test=pd.concat([test,v],axis=1)"
   ]
  },
  {
   "cell_type": "code",
   "execution_count": 12,
   "metadata": {},
   "outputs": [],
   "source": [
    "v=pd.get_dummies(data['condition_post_eq'])\n",
    "data=pd.concat([data,v],axis=1)\n",
    "v=pd.get_dummies(test['condition_post_eq'])\n",
    "test=pd.concat([test,v],axis=1)"
   ]
  },
  {
   "cell_type": "code",
   "execution_count": 13,
   "metadata": {},
   "outputs": [],
   "source": [
    "v=pd.get_dummies(data['ground_floor_type'])\n",
    "data=pd.concat([data,v],axis=1)\n",
    "v=pd.get_dummies(test['ground_floor_type'])\n",
    "test=pd.concat([test,v],axis=1)"
   ]
  },
  {
   "cell_type": "code",
   "execution_count": 14,
   "metadata": {},
   "outputs": [],
   "source": [
    "v=pd.get_dummies(data['other_floor_type'])\n",
    "data=pd.concat([data,v],axis=1)\n",
    "v=pd.get_dummies(test['other_floor_type'])\n",
    "test=pd.concat([test,v],axis=1)\n"
   ]
  },
  {
   "cell_type": "code",
   "execution_count": 15,
   "metadata": {},
   "outputs": [],
   "source": [
    "v=pd.get_dummies(data['position'])\n",
    "data=pd.concat([data,v],axis=1)\n",
    "v=pd.get_dummies(test['position'])\n",
    "test=pd.concat([test,v],axis=1)"
   ]
  },
  {
   "cell_type": "code",
   "execution_count": 16,
   "metadata": {},
   "outputs": [],
   "source": [
    "v=pd.get_dummies(data['plan_configuration'])\n",
    "data=pd.concat([data,v],axis=1)\n",
    "v=pd.get_dummies(test['plan_configuration'])\n",
    "test=pd.concat([test,v],axis=1)"
   ]
  },
  {
   "cell_type": "code",
   "execution_count": 17,
   "metadata": {},
   "outputs": [],
   "source": [
    "data = data.drop(['building_id','has_geotechnical_risk_liquefaction','has_geotechnical_risk_other','has_secondary_use_health_post','has_secondary_use_gov_office','has_secondary_use_use_police','legal_ownership_status','plan_configuration','position','other_floor_type','ground_floor_type','condition_post_eq','roof_type','foundation_type','land_surface_condition','count_families','area_assesed','has_repair_started'],axis=1)"
   ]
  },
  {
   "cell_type": "code",
   "execution_count": 18,
   "metadata": {},
   "outputs": [],
   "source": [
    "test = test.drop(['building_id','has_geotechnical_risk_liquefaction','has_geotechnical_risk_other','has_secondary_use_health_post','has_secondary_use_gov_office','has_secondary_use_use_police','legal_ownership_status','plan_configuration','position','other_floor_type','ground_floor_type','condition_post_eq','roof_type','foundation_type','land_surface_condition','area_assesed','area_assesed','has_repair_started','count_families'],axis=1)"
   ]
  },
  {
   "cell_type": "code",
   "execution_count": 19,
   "metadata": {},
   "outputs": [],
   "source": [
    "data['damage']=data.damage_grade.map({'Grade 5':5,'Grade 4':4,'Grade 3':3,'Grade 2':2,'Grade 1':1})"
   ]
  },
  {
   "cell_type": "code",
   "execution_count": 20,
   "metadata": {},
   "outputs": [],
   "source": [
    "data = data.drop([\"damage_grade\"],axis=1)"
   ]
  },
  {
   "cell_type": "code",
   "execution_count": 21,
   "metadata": {},
   "outputs": [],
   "source": [
    "x = data.iloc[:,:-1]\n",
    "y= data.iloc[:,-1]\n"
   ]
  },
  {
   "cell_type": "code",
   "execution_count": 23,
   "metadata": {},
   "outputs": [],
   "source": [
    "from sklearn.model_selection import train_test_split\n",
    "x_train,x_test,y_train,y_test = train_test_split(x,y,test_size =0.7,random_state = 0)"
   ]
  },
  {
   "cell_type": "code",
   "execution_count": 24,
   "metadata": {},
   "outputs": [
    {
     "name": "stderr",
     "output_type": "stream",
     "text": [
      "/Users/anmolpatil/anaconda3/lib/python3.6/site-packages/sklearn/cross_validation.py:41: DeprecationWarning: This module was deprecated in version 0.18 in favor of the model_selection module into which all the refactored classes and functions are moved. Also note that the interface of the new CV iterators are different from that of this module. This module will be removed in 0.20.\n",
      "  \"This module will be removed in 0.20.\", DeprecationWarning)\n"
     ]
    }
   ],
   "source": [
    "from sklearn.neighbors import KNeighborsClassifier\n",
    "from sklearn.cross_validation import cross_val_score as cs"
   ]
  },
  {
   "cell_type": "code",
   "execution_count": 27,
   "metadata": {},
   "outputs": [
    {
     "data": {
      "text/plain": [
       "array([0.59762892, 0.59588781, 0.59352939, 0.59332363, 0.59668228,\n",
       "       0.59409577, 0.59675505, 0.5970558 , 0.59103429, 0.59399436])"
      ]
     },
     "execution_count": 27,
     "metadata": {},
     "output_type": "execute_result"
    }
   ],
   "source": [
    "knn = KNeighborsClassifier(n_neighbors = 18 )\n",
    "score1=cs(knn,x,y,cv=10,scoring='accuracy')\n",
    "score1\n"
   ]
  },
  {
   "cell_type": "code",
   "execution_count": 28,
   "metadata": {},
   "outputs": [
    {
     "data": {
      "text/plain": [
       "0.5976289214600019"
      ]
     },
     "execution_count": 28,
     "metadata": {},
     "output_type": "execute_result"
    }
   ],
   "source": [
    "score1.max()"
   ]
  },
  {
   "cell_type": "code",
   "execution_count": 29,
   "metadata": {},
   "outputs": [
    {
     "data": {
      "text/plain": [
       "KNeighborsClassifier(algorithm='auto', leaf_size=30, metric='minkowski',\n",
       "           metric_params=None, n_jobs=1, n_neighbors=13, p=2,\n",
       "           weights='uniform')"
      ]
     },
     "execution_count": 29,
     "metadata": {},
     "output_type": "execute_result"
    }
   ],
   "source": [
    "\n",
    "classifier_knn = KNeighborsClassifier(n_neighbors = 13 , metric = \"minkowski\",p=2)\n",
    "classifier_knn.fit(x_train,y_train)"
   ]
  },
  {
   "cell_type": "code",
   "execution_count": null,
   "metadata": {},
   "outputs": [],
   "source": [
    "y_pred_knn = classifier_knn.predict(test)\n",
    "accuracy_knn_diabetes = accuracy_score(y_pred_knn,test)"
   ]
  },
  {
   "cell_type": "code",
   "execution_count": null,
   "metadata": {},
   "outputs": [],
   "source": []
  }
 ],
 "metadata": {
  "kernelspec": {
   "display_name": "Python 3",
   "language": "python",
   "name": "python3"
  },
  "language_info": {
   "codemirror_mode": {
    "name": "ipython",
    "version": 3
   },
   "file_extension": ".py",
   "mimetype": "text/x-python",
   "name": "python",
   "nbconvert_exporter": "python",
   "pygments_lexer": "ipython3",
   "version": "3.6.4"
  }
 },
 "nbformat": 4,
 "nbformat_minor": 2
}
